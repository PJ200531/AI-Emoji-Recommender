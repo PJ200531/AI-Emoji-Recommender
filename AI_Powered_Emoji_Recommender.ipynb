{
  "nbformat": 4,
  "nbformat_minor": 0,
  "metadata": {
    "colab": {
      "provenance": []
    },
    "kernelspec": {
      "name": "python3",
      "display_name": "Python 3"
    },
    "language_info": {
      "name": "python"
    }
  },
  "cells": [
    {
      "cell_type": "code",
      "execution_count": null,
      "metadata": {
        "colab": {
          "base_uri": "https://localhost:8080/",
          "height": 646
        },
        "id": "WGzDlZl3FctD",
        "outputId": "acbeb5ce-ffb6-4f3e-e89b-824ea135af96"
      },
      "outputs": [
        {
          "output_type": "stream",
          "name": "stdout",
          "text": [
            "It looks like you are running Gradio on a hosted Jupyter notebook, which requires `share=True`. Automatically setting `share=True` (you can turn this off by setting `share=False` in `launch()` explicitly).\n",
            "\n",
            "Colab notebook detected. To show errors in colab notebook, set debug=True in launch()\n",
            "* Running on public URL: https://8b9ee874c85a840e77.gradio.live\n",
            "\n",
            "This share link expires in 1 week. For free permanent hosting and GPU upgrades, run `gradio deploy` from the terminal in the working directory to deploy to Hugging Face Spaces (https://huggingface.co/spaces)\n"
          ]
        },
        {
          "output_type": "display_data",
          "data": {
            "text/plain": [
              "<IPython.core.display.HTML object>"
            ],
            "text/html": [
              "<div><iframe src=\"https://8b9ee874c85a840e77.gradio.live\" width=\"100%\" height=\"500\" allow=\"autoplay; camera; microphone; clipboard-read; clipboard-write;\" frameborder=\"0\" allowfullscreen></iframe></div>"
            ]
          },
          "metadata": {}
        },
        {
          "output_type": "execute_result",
          "data": {
            "text/plain": []
          },
          "metadata": {},
          "execution_count": 2
        }
      ],
      "source": [
        "import random\n",
        "import gradio as gr\n",
        "\n",
        "# Extended keyword → emoji dictionary\n",
        "emoji_dict = {\n",
        "    # Emotions\n",
        "    \"happy\": [\"😄\", \"😁\", \"😎\", \"😊\", \"🤩\", \"🥳\", \"😂\"],\n",
        "    \"sad\": [\"😢\", \"😞\", \"😔\", \"🥺\", \"😓\", \"😭\"],\n",
        "    \"love\": [\"❤️\", \"😍\", \"🥰\", \"💖\", \"💘\", \"💕\"],\n",
        "    \"angry\": [\"😡\", \"😠\", \"🤬\", \"😤\"],\n",
        "    \"surprised\": [\"😲\", \"😳\", \"😮\", \"😯\"],\n",
        "    \"confused\": [\"🤔\", \"😕\", \"😣\", \"😖\"],\n",
        "\n",
        "    # Food & Drinks\n",
        "    \"pizza\": [\"🍕\", \"😋\"],\n",
        "    \"burger\": [\"🍔\", \"😋\"],\n",
        "    \"fries\": [\"🍟\", \"😋\"],\n",
        "    \"coffee\": [\"☕\", \"😴\"],\n",
        "    \"tea\": [\"🍵\", \"😌\"],\n",
        "    \"cake\": [\"🍰\", \"🎂\", \"😋\"],\n",
        "    \"icecream\": [\"🍦\", \"🍨\", \"😋\"],\n",
        "\n",
        "    # Animals\n",
        "    \"cat\": [\"🐱\", \"😺\", \"🐈\", \"😹\"],\n",
        "    \"dog\": [\"🐶\", \"🐕\", \"🦮\", \"🐩\"],\n",
        "    \"bird\": [\"🐦\", \"🐤\", \"🕊️\"],\n",
        "    \"fish\": [\"🐟\", \"🐠\", \"🐡\"],\n",
        "    \"lion\": [\"🦁\", \"🐾\"],\n",
        "\n",
        "    # Activities & Fun\n",
        "    \"party\": [\"🎉\", \"🥳\", \"🎊\", \"💃\", \"🕺\"],\n",
        "    \"game\": [\"🎮\", \"🕹️\", \"♟️\"],\n",
        "    \"music\": [\"🎵\", \"🎶\", \"🎸\", \"🎹\"],\n",
        "    \"travel\": [\"✈️\", \"🗺️\", \"🏖️\", \"🚗\", \"🚆\"],\n",
        "    \"movie\": [\"🎬\", \"🍿\", \"📽️\"],\n",
        "\n",
        "    # Nature & Weather\n",
        "    \"sun\": [\"☀️\", \"🌞\", \"🌻\"],\n",
        "    \"moon\": [\"🌙\", \"🌚\", \"🌝\"],\n",
        "    \"rain\": [\"🌧️\", \"☔\", \"💧\"],\n",
        "    \"snow\": [\"❄️\", \"⛄\", \"☃️\"],\n",
        "    \"flower\": [\"🌸\", \"🌹\", \"🌼\", \"🌺\"],\n",
        "\n",
        "    # Random / Misc\n",
        "    \"fire\": [\"🔥\", \"💥\", \"⚡\"],\n",
        "    \"star\": [\"⭐\", \"🌟\", \"✨\"],\n",
        "    \"gift\": [\"🎁\", \"🎀\", \"🎉\"],\n",
        "    \"money\": [\"💰\", \"💵\", \"🤑\", \"💸\"],\n",
        "    \"heart\": [\"❤️\", \"💖\", \"💗\", \"💓\"],\n",
        "}\n",
        "\n",
        "def recommend_emojis(text):\n",
        "    emojis = []\n",
        "    for word in text.lower().replace(\",\", \"\").replace(\".\", \"\").split():\n",
        "        if word in emoji_dict:\n",
        "            emojis.extend(emoji_dict[word])\n",
        "    if not emojis:\n",
        "        emojis = [\"🤔\", \"❓\", \"💭\"]\n",
        "    return \" \".join(random.sample(emojis, min(5, len(emojis))))\n",
        "\n",
        "iface = gr.Interface(fn=recommend_emojis,\n",
        "                     inputs=gr.Textbox(lines=2, placeholder=\"Type your text...\"),\n",
        "                     outputs=\"text\",\n",
        "                     title=\"AI Emoji Recommender\")\n",
        "iface.launch()\n"
      ]
    }
  ]
}